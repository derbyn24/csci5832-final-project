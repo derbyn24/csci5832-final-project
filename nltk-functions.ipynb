{
 "cells": [
  {
   "cell_type": "markdown",
   "metadata": {},
   "source": [
    "# NLTK Function Drafting and Testing\n",
    "\n",
    "Not sure if a notebook is the best way to do it, but I'll start here."
   ]
  },
  {
   "cell_type": "code",
   "execution_count": 1,
   "metadata": {},
   "outputs": [
    {
     "name": "stderr",
     "output_type": "stream",
     "text": [
      "[nltk_data] Downloading package punkt_tab to\n",
      "[nltk_data]     C:\\Users\\wilke\\AppData\\Roaming\\nltk_data...\n",
      "[nltk_data]   Package punkt_tab is already up-to-date!\n",
      "[nltk_data] Downloading package averaged_perceptron_tagger_eng to\n",
      "[nltk_data]     C:\\Users\\wilke\\AppData\\Roaming\\nltk_data...\n",
      "[nltk_data]   Package averaged_perceptron_tagger_eng is already up-to-\n",
      "[nltk_data]       date!\n",
      "[nltk_data] Downloading package wordnet to\n",
      "[nltk_data]     C:\\Users\\wilke\\AppData\\Roaming\\nltk_data...\n",
      "[nltk_data]   Package wordnet is already up-to-date!\n"
     ]
    },
    {
     "data": {
      "text/plain": [
       "True"
      ]
     },
     "execution_count": 1,
     "metadata": {},
     "output_type": "execute_result"
    }
   ],
   "source": [
    "import nltk\n",
    "from nltk.stem import WordNetLemmatizer\n",
    "from nltk import pos_tag\n",
    "nltk.download('punkt_tab')\n",
    "nltk.download('averaged_perceptron_tagger_eng')\n",
    "nltk.download('wordnet')"
   ]
  },
  {
   "cell_type": "code",
   "execution_count": 3,
   "metadata": {},
   "outputs": [
    {
     "name": "stdout",
     "output_type": "stream",
     "text": [
      "Colorado is a state in the Western United States. It is one of the Mountain states, sharing the Four Corners region with Arizona, New Mexico, and Utah. It is also bordered by Wyoming to the north, Nebraska to the northeast, Kansas to the east, and Oklahoma to the southeast. Colorado is noted for its landscape of mountains, forests, high plains, mesas, canyons, plateaus, rivers, and desert lands. It encompasses most of the Southern Rocky Mountains, as well as the northeastern portion of the Colorado Plateau and the western edge of the Great Plains. Colorado is the eighth most extensive and 21st most populous U.S. state. The United States Census Bureau estimated the population of Colorado at 5,877,610 as of July 1, 2023, a 1.80% increase since the 2020 United States census.\n",
      "\n",
      "The region has been inhabited by Native Americans and their ancestors for at least 13,500 years and possibly much longer. The eastern edge of the Rocky Mountains was a major migration route for early peoples who spread throughout the Americas. In 1848, much of the Nuevo MÃ©xico region was annexed to the United States with the Treaty of Guadalupe Hidalgo. The Pike's Peak Gold Rush of 1858â€“1862 created an influx of settlers. On February 28, 1861, U.S. President James Buchanan signed an act creating the Territory of Colorado, and on August 1, 1876, President Ulysses S. Grant signed Proclamation 230, admitting Colorado to the Union as the 38th state. The Spanish adjective \"colorado\" means \"colored red\" or \"ruddy\". Colorado is nicknamed the \"Centennial State\" because it became a state one century (and four weeks) after the signing of the United States Declaration of Independence.\n",
      "\n",
      "Denver is the capital, the most populous city, and the center of the Front Range Urban Corridor. Colorado Springs is the second most populous city of the state. Residents of the state are known as Coloradans, although the antiquated \"Coloradoan\" is occasionally used. Major parts of the economy include government and defense, mining, agriculture, tourism, and increasingly other kinds of manufacturing. With increasing temperatures and decreasing water availability, Colorado's agriculture forestry, and tourism economies are expected to be heavily affected by climate change.\n"
     ]
    }
   ],
   "source": [
    "def read_from_txt(filename):\n",
    "    with open(filename, 'r') as file:\n",
    "        text = file.read()\n",
    "    return text\n",
    "\n",
    "print(read_from_txt(\"input\\colorado-intro-wiki.txt\"))"
   ]
  },
  {
   "cell_type": "code",
   "execution_count": 5,
   "metadata": {},
   "outputs": [
    {
     "name": "stdout",
     "output_type": "stream",
     "text": [
      "['Colorado', 'is', 'a', 'state', 'in', 'the', 'Western', 'United', 'States', '.', 'It', 'is', 'one', 'of', 'the', 'Mountain', 'states', ',', 'sharing', 'the', 'Four', 'Corners', 'region', 'with', 'Arizona', ',', 'New', 'Mexico', ',', 'and', 'Utah', '.', 'It', 'is', 'also', 'bordered', 'by', 'Wyoming', 'to', 'the', 'north', ',', 'Nebraska', 'to', 'the', 'northeast', ',', 'Kansas', 'to', 'the', 'east', ',', 'and', 'Oklahoma', 'to', 'the', 'southeast', '.', 'Colorado', 'is', 'noted', 'for', 'its', 'landscape', 'of', 'mountains', ',', 'forests', ',', 'high', 'plains', ',', 'mesas', ',', 'canyons', ',', 'plateaus', ',', 'rivers', ',', 'and', 'desert', 'lands', '.', 'It', 'encompasses', 'most', 'of', 'the', 'Southern', 'Rocky', 'Mountains', ',', 'as', 'well', 'as', 'the', 'northeastern', 'portion', 'of', 'the', 'Colorado', 'Plateau', 'and', 'the', 'western', 'edge', 'of', 'the', 'Great', 'Plains', '.', 'Colorado', 'is', 'the', 'eighth', 'most', 'extensive', 'and', '21st', 'most', 'populous', 'U.S.', 'state', '.', 'The', 'United', 'States', 'Census', 'Bureau', 'estimated', 'the', 'population', 'of', 'Colorado', 'at', '5,877,610', 'as', 'of', 'July', '1', ',', '2023', ',', 'a', '1.80', '%', 'increase', 'since', 'the', '2020', 'United', 'States', 'census', '.', 'The', 'region', 'has', 'been', 'inhabited', 'by', 'Native', 'Americans', 'and', 'their', 'ancestors', 'for', 'at', 'least', '13,500', 'years', 'and', 'possibly', 'much', 'longer', '.', 'The', 'eastern', 'edge', 'of', 'the', 'Rocky', 'Mountains', 'was', 'a', 'major', 'migration', 'route', 'for', 'early', 'peoples', 'who', 'spread', 'throughout', 'the', 'Americas', '.', 'In', '1848', ',', 'much', 'of', 'the', 'Nuevo', 'MÃ©xico', 'region', 'was', 'annexed', 'to', 'the', 'United', 'States', 'with', 'the', 'Treaty', 'of', 'Guadalupe', 'Hidalgo', '.', 'The', 'Pike', \"'s\", 'Peak', 'Gold', 'Rush', 'of', '1858â€', '“', '1862', 'created', 'an', 'influx', 'of', 'settlers', '.', 'On', 'February', '28', ',', '1861', ',', 'U.S.', 'President', 'James', 'Buchanan', 'signed', 'an', 'act', 'creating', 'the', 'Territory', 'of', 'Colorado', ',', 'and', 'on', 'August', '1', ',', '1876', ',', 'President', 'Ulysses', 'S.', 'Grant', 'signed', 'Proclamation', '230', ',', 'admitting', 'Colorado', 'to', 'the', 'Union', 'as', 'the', '38th', 'state', '.', 'The', 'Spanish', 'adjective', '``', 'colorado', \"''\", 'means', '``', 'colored', 'red', \"''\", 'or', '``', 'ruddy', \"''\", '.', 'Colorado', 'is', 'nicknamed', 'the', '``', 'Centennial', 'State', \"''\", 'because', 'it', 'became', 'a', 'state', 'one', 'century', '(', 'and', 'four', 'weeks', ')', 'after', 'the', 'signing', 'of', 'the', 'United', 'States', 'Declaration', 'of', 'Independence', '.', 'Denver', 'is', 'the', 'capital', ',', 'the', 'most', 'populous', 'city', ',', 'and', 'the', 'center', 'of', 'the', 'Front', 'Range', 'Urban', 'Corridor', '.', 'Colorado', 'Springs', 'is', 'the', 'second', 'most', 'populous', 'city', 'of', 'the', 'state', '.', 'Residents', 'of', 'the', 'state', 'are', 'known', 'as', 'Coloradans', ',', 'although', 'the', 'antiquated', '``', 'Coloradoan', \"''\", 'is', 'occasionally', 'used', '.', 'Major', 'parts', 'of', 'the', 'economy', 'include', 'government', 'and', 'defense', ',', 'mining', ',', 'agriculture', ',', 'tourism', ',', 'and', 'increasingly', 'other', 'kinds', 'of', 'manufacturing', '.', 'With', 'increasing', 'temperatures', 'and', 'decreasing', 'water', 'availability', ',', 'Colorado', \"'s\", 'agriculture', 'forestry', ',', 'and', 'tourism', 'economies', 'are', 'expected', 'to', 'be', 'heavily', 'affected', 'by', 'climate', 'change', '.']\n"
     ]
    }
   ],
   "source": [
    "text = read_from_txt(\"input\\colorado-intro-wiki.txt\")\n",
    "tokens = nltk.word_tokenize(text)\n",
    "print(tokens)"
   ]
  },
  {
   "cell_type": "code",
   "execution_count": 6,
   "metadata": {},
   "outputs": [],
   "source": [
    "def convert_pos_to_wordnet(tag):\n",
    "    if tag.startswith('J'):\n",
    "        return 'a'  # Adjective\n",
    "    elif tag.startswith('V'):\n",
    "        return 'v'  # Verb\n",
    "    elif tag.startswith('N'):\n",
    "        return 'n'  # Noun\n",
    "    elif tag.startswith('R'):\n",
    "        return 'r'  # Adverb\n",
    "    else:\n",
    "        return 'n'  # Default to noun"
   ]
  },
  {
   "cell_type": "code",
   "execution_count": 8,
   "metadata": {},
   "outputs": [
    {
     "name": "stdout",
     "output_type": "stream",
     "text": [
      "['Colorado', 'be', 'a', 'state', 'in', 'the', 'Western', 'United', 'States', '.', 'It', 'be', 'one', 'of', 'the', 'Mountain', 'state', ',', 'share', 'the', 'Four', 'Corners', 'region', 'with', 'Arizona', ',', 'New', 'Mexico', ',', 'and', 'Utah', '.', 'It', 'be', 'also', 'border', 'by', 'Wyoming', 'to', 'the', 'north', ',', 'Nebraska', 'to', 'the', 'northeast', ',', 'Kansas', 'to', 'the', 'east', ',', 'and', 'Oklahoma', 'to', 'the', 'southeast', '.', 'Colorado', 'be', 'note', 'for', 'it', 'landscape', 'of', 'mountain', ',', 'forest', ',', 'high', 'plain', ',', 'mesa', ',', 'canyon', ',', 'plateau', ',', 'river', ',', 'and', 'desert', 'land', '.', 'It', 'encompass', 'most', 'of', 'the', 'Southern', 'Rocky', 'Mountains', ',', 'as', 'well', 'a', 'the', 'northeastern', 'portion', 'of', 'the', 'Colorado', 'Plateau', 'and', 'the', 'western', 'edge', 'of', 'the', 'Great', 'Plains', '.', 'Colorado', 'be', 'the', 'eighth', 'most', 'extensive', 'and', '21st', 'most', 'populous', 'U.S.', 'state', '.', 'The', 'United', 'States', 'Census', 'Bureau', 'estimate', 'the', 'population', 'of', 'Colorado', 'at', '5,877,610', 'a', 'of', 'July', '1', ',', '2023', ',', 'a', '1.80', '%', 'increase', 'since', 'the', '2020', 'United', 'States', 'census', '.', 'The', 'region', 'have', 'be', 'inhabit', 'by', 'Native', 'Americans', 'and', 'their', 'ancestor', 'for', 'at', 'least', '13,500', 'year', 'and', 'possibly', 'much', 'longer', '.', 'The', 'eastern', 'edge', 'of', 'the', 'Rocky', 'Mountains', 'be', 'a', 'major', 'migration', 'route', 'for', 'early', 'people', 'who', 'spread', 'throughout', 'the', 'Americas', '.', 'In', '1848', ',', 'much', 'of', 'the', 'Nuevo', 'MÃ©xico', 'region', 'be', 'annex', 'to', 'the', 'United', 'States', 'with', 'the', 'Treaty', 'of', 'Guadalupe', 'Hidalgo', '.', 'The', 'Pike', \"'s\", 'Peak', 'Gold', 'Rush', 'of', '1858â€', '“', '1862', 'create', 'an', 'influx', 'of', 'settler', '.', 'On', 'February', '28', ',', '1861', ',', 'U.S.', 'President', 'James', 'Buchanan', 'sign', 'an', 'act', 'create', 'the', 'Territory', 'of', 'Colorado', ',', 'and', 'on', 'August', '1', ',', '1876', ',', 'President', 'Ulysses', 'S.', 'Grant', 'sign', 'Proclamation', '230', ',', 'admit', 'Colorado', 'to', 'the', 'Union', 'a', 'the', '38th', 'state', '.', 'The', 'Spanish', 'adjective', '``', 'colorado', \"''\", 'mean', '``', 'colored', 'red', \"''\", 'or', '``', 'ruddy', \"''\", '.', 'Colorado', 'be', 'nickname', 'the', '``', 'Centennial', 'State', \"''\", 'because', 'it', 'become', 'a', 'state', 'one', 'century', '(', 'and', 'four', 'week', ')', 'after', 'the', 'signing', 'of', 'the', 'United', 'States', 'Declaration', 'of', 'Independence', '.', 'Denver', 'be', 'the', 'capital', ',', 'the', 'most', 'populous', 'city', ',', 'and', 'the', 'center', 'of', 'the', 'Front', 'Range', 'Urban', 'Corridor', '.', 'Colorado', 'Springs', 'be', 'the', 'second', 'most', 'populous', 'city', 'of', 'the', 'state', '.', 'Residents', 'of', 'the', 'state', 'be', 'know', 'a', 'Coloradans', ',', 'although', 'the', 'antiquated', '``', 'Coloradoan', \"''\", 'be', 'occasionally', 'use', '.', 'Major', 'part', 'of', 'the', 'economy', 'include', 'government', 'and', 'defense', ',', 'mining', ',', 'agriculture', ',', 'tourism', ',', 'and', 'increasingly', 'other', 'kind', 'of', 'manufacturing', '.', 'With', 'increase', 'temperature', 'and', 'decrease', 'water', 'availability', ',', 'Colorado', \"'s\", 'agriculture', 'forestry', ',', 'and', 'tourism', 'economy', 'be', 'expect', 'to', 'be', 'heavily', 'affect', 'by', 'climate', 'change', '.']\n"
     ]
    }
   ],
   "source": [
    "def lemmatize(filename):\n",
    "    text = read_from_txt(filename)\n",
    "    tokens = nltk.word_tokenize(text)\n",
    "    lemmatizer = WordNetLemmatizer()\n",
    "    tagged_tokens = pos_tag(tokens)\n",
    "    lemmatized_tokens = [lemmatizer.lemmatize(token, convert_pos_to_wordnet(pos_tag)) for token, pos_tag in tagged_tokens]\n",
    "    return lemmatized_tokens\n",
    "\n",
    "print(lemmatize(\"input\\colorado-intro-wiki.txt\")) "
   ]
  }
 ],
 "metadata": {
  "kernelspec": {
   "display_name": "Python 3",
   "language": "python",
   "name": "python3"
  },
  "language_info": {
   "codemirror_mode": {
    "name": "ipython",
    "version": 3
   },
   "file_extension": ".py",
   "mimetype": "text/x-python",
   "name": "python",
   "nbconvert_exporter": "python",
   "pygments_lexer": "ipython3",
   "version": "3.11.9"
  }
 },
 "nbformat": 4,
 "nbformat_minor": 2
}
