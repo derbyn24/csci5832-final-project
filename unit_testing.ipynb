{
 "cells": [
  {
   "cell_type": "markdown",
   "metadata": {},
   "source": [
    "# Unit Testing of File Reader and Language Processing\n",
    "\n",
    "This notebook contains unit tests for functions contained within the fileReader.py and languageProcessing.py files. The GUI can be tested by directly running the gui.py file."
   ]
  },
  {
   "cell_type": "markdown",
   "metadata": {},
   "source": [
    "## Imports and Setup"
   ]
  },
  {
   "cell_type": "code",
   "execution_count": 49,
   "metadata": {},
   "outputs": [
    {
     "name": "stderr",
     "output_type": "stream",
     "text": [
      "[nltk_data] Downloading package punkt_tab to\n",
      "[nltk_data]     /Users/nicholasderby/nltk_data...\n",
      "[nltk_data]   Package punkt_tab is already up-to-date!\n",
      "[nltk_data] Downloading package averaged_perceptron_tagger_eng to\n",
      "[nltk_data]     /Users/nicholasderby/nltk_data...\n",
      "[nltk_data]   Package averaged_perceptron_tagger_eng is already up-to-\n",
      "[nltk_data]       date!\n",
      "[nltk_data] Downloading package averaged_perceptron_tagger to\n",
      "[nltk_data]     /Users/nicholasderby/nltk_data...\n",
      "[nltk_data]   Package averaged_perceptron_tagger is already up-to-\n",
      "[nltk_data]       date!\n",
      "[nltk_data] Downloading package wordnet to\n",
      "[nltk_data]     /Users/nicholasderby/nltk_data...\n",
      "[nltk_data]   Package wordnet is already up-to-date!\n",
      "[nltk_data] Downloading package maxent_ne_chunker to\n",
      "[nltk_data]     /Users/nicholasderby/nltk_data...\n",
      "[nltk_data]   Package maxent_ne_chunker is already up-to-date!\n",
      "[nltk_data] Downloading package words to\n",
      "[nltk_data]     /Users/nicholasderby/nltk_data...\n",
      "[nltk_data]   Package words is already up-to-date!\n"
     ]
    },
    {
     "name": "stdout",
     "output_type": "stream",
     "text": [
      "Requirement already satisfied: pypdf2 in /opt/anaconda3/lib/python3.12/site-packages (3.0.1)\n",
      "Note: you may need to restart the kernel to use updated packages.\n"
     ]
    }
   ],
   "source": [
    "import nltk\n",
    "nltk.download('punkt_tab')\n",
    "nltk.download('averaged_perceptron_tagger_eng')\n",
    "nltk.download('averaged_perceptron_tagger')\n",
    "nltk.download('wordnet')\n",
    "nltk.download('maxent_ne_chunker')\n",
    "nltk.download('words')\n",
    "%pip install pypdf2\n",
    "\n",
    "from languageProcessing import *\n",
    "from fileReader import *\n",
    "\n"
   ]
  },
  {
   "cell_type": "markdown",
   "metadata": {},
   "source": [
    "## File Reader Tests"
   ]
  },
  {
   "cell_type": "markdown",
   "metadata": {},
   "source": [
    "### Testing to ensure PDF reader functions properly\n",
    "\n",
    "Though fileReader.py does contain additional functions, they must be called directly by the GUI."
   ]
  },
  {
   "cell_type": "code",
   "execution_count": 50,
   "metadata": {},
   "outputs": [],
   "source": [
    "inputPDF = \"test_files/colorado-wikipedia-intro.pdf\"\n",
    "outputTXT = \"test_files/colorado-wikipedia-intro.txt\"\n",
    "controlTXT = \"test_files/colorado-intro-wiki.txt\"\n",
    "\n",
    "pdf_to_txt(inputPDF, outputTXT)\n",
    "\n",
    "with open(outputTXT, 'r') as file:\n",
    "    outputText = file.read()\n",
    "\n",
    "with open(controlTXT, 'r') as file:\n",
    "    controlText = file.read()\n",
    "\n",
    "for outputWord, controlWord in zip(outputText.split(), controlText.split()):\n",
    "    assert(outputWord == controlWord)"
   ]
  },
  {
   "cell_type": "markdown",
   "metadata": {},
   "source": [
    "## Language Processing Tests"
   ]
  },
  {
   "cell_type": "markdown",
   "metadata": {},
   "source": [
    "Test sentence detection. Since every sentence in the sample text ends in a period, checking that each detected sentence ends in a period is an effective test in this case."
   ]
  },
  {
   "cell_type": "code",
   "execution_count": 51,
   "metadata": {},
   "outputs": [
    {
     "name": "stdout",
     "output_type": "stream",
     "text": [
      "Colorado is a state in the Western United States.\n",
      "It is one of the Mountain states, sharing the Four Corners region with Arizona, New Mexico, and Utah.\n",
      "It is also bordered by Wyoming to the north, Nebraska to the northeast, Kansas to the east, and Oklahoma to the southeast.\n",
      "Colorado is noted for its landscape of mountains, forests, high plains, mesas, canyons, plateaus, rivers, and desert lands.\n",
      "It encompasses most of the Southern Rocky Mountains, as well as the northeastern portion of the Colorado Plateau and the western edge of the Great Plains.\n",
      "Colorado is the eighth most extensive and 21st most populous U.S. state.\n",
      "The United States Census Bureau estimated the population of Colorado at 5,877,610 as of July 1, 2023, a 1.80% increase since the 2020 United States census.\n",
      "The region has been inhabited by Native Americans and their ancestors for at least 13,500 years and possibly much longer.\n",
      "The eastern edge of the Rocky Mountains was a major migration route for early peoples who spread throughout the Americas.\n",
      "In 1848, much of the Nuevo México region was annexed to the United States with the Treaty of Guadalupe Hidalgo.\n",
      "The Pike's Peak Gold Rush of 1858–1862 created an influx of settlers.\n",
      "On February 28, 1861, U.S. President James Buchanan signed an act creating the Territory of Colorado, and on August 1, 1876, President Ulysses S. Grant signed Proclamation 230, admitting Colorado to the Union as the 38th state.\n",
      "The Spanish adjective \"colorado\" means \"colored red\" or \"ruddy\".\n",
      "Colorado is nicknamed the \"Centennial State\" because it became a state one century (and four weeks) after the signing of the United States Declaration of Independence.\n",
      "Denver is the capital, the most populous city, and the center of the Front Range Urban Corridor.\n",
      "Colorado Springs is the second most populous city of the state.\n",
      "Residents of the state are known as Coloradans, although the antiquated \"Coloradoan\" is occasionally used.\n",
      "Major parts of the economy include government and defense, mining, agriculture, tourism, and increasingly other kinds of manufacturing.\n",
      "With increasing temperatures and decreasing water availability, Colorado's agriculture forestry, and tourism economies are expected to be heavily affected by climate change.\n"
     ]
    }
   ],
   "source": [
    "text = controlText  # renaming for readability\n",
    "\n",
    "sentences = sentence_detection(text)\n",
    "\n",
    "for sentence in sentences:\n",
    "    print(sentence)\n",
    "    assert(sentence[len(sentence) - 1] == '.') \n"
   ]
  },
  {
   "cell_type": "markdown",
   "metadata": {},
   "source": [
    "Test tokenize, checking that each token properly matches up with the original text."
   ]
  },
  {
   "cell_type": "code",
   "execution_count": 52,
   "metadata": {},
   "outputs": [],
   "source": [
    "words = text.split()\n",
    "tokens = tokenize(text)\n",
    "\n",
    "for token in tokens:\n",
    "    if token == \"``\" or token == \"''\":      # ignore quotes since tokenizer reformats them\n",
    "        continue\n",
    "\n",
    "    match = False\n",
    "    for word in words:\n",
    "        if token in word:\n",
    "            match = True\n",
    "\n",
    "    assert(match)"
   ]
  },
  {
   "cell_type": "markdown",
   "metadata": {},
   "source": [
    "Test part_of_speech_tagging, ensuring that its output is as expected."
   ]
  },
  {
   "cell_type": "code",
   "execution_count": 53,
   "metadata": {},
   "outputs": [
    {
     "name": "stdout",
     "output_type": "stream",
     "text": [
      "Colorado [NNP] is [VBZ] a [DT] state [NN] in [IN] the [DT] Western [NNP] United [NNP] States [NNPS] . [.] It [PRP] is [VBZ] one [CD] of [IN] the [DT] Mountain [NNP] states [NNS] , [,] sharing [VBG] the [DT] Four [CD] Corners [NNPS] region [NN] with [IN] Arizona [NNP] , [,] New [NNP] Mexico [NNP] , [,] and [CC] Utah [NNP] . [.] It [PRP] is [VBZ] also [RB] bordered [VBN] by [IN] Wyoming [VBG] to [TO] the [DT] north [NN] , [,] Nebraska [NNP] to [TO] the [DT] northeast [NN] , [,] Kansas [NNP] to [TO] the [DT] east [NN] , [,] and [CC] Oklahoma [NNP] to [TO] the [DT] southeast [NN] . [.] Colorado [NNP] is [VBZ] noted [VBN] for [IN] its [PRP$] landscape [NN] of [IN] mountains [NNS] , [,] forests [NNS] , [,] high [JJ] plains [NNS] , [,] mesas [NN] , [,] canyons [NNS] , [,] plateaus [NN] , [,] rivers [NNS] , [,] and [CC] desert [NN] lands [NNS] . [.] It [PRP] encompasses [VBZ] most [JJS] of [IN] the [DT] Southern [NNP] Rocky [NNP] Mountains [NNP] , [,] as [RB] well [RB] as [IN] the [DT] northeastern [JJ] portion [NN] of [IN] the [DT] Colorado [NNP] Plateau [NNP] and [CC] the [DT] western [JJ] edge [NN] of [IN] the [DT] Great [NNP] Plains [NNPS] . [.] Colorado [NNP] is [VBZ] the [DT] eighth [JJ] most [RBS] extensive [JJ] and [CC] 21st [CD] most [RBS] populous [JJ] U.S. [NNP] state [NN] . [.] The [DT] United [NNP] States [NNPS] Census [NNP] Bureau [NNP] estimated [VBD] the [DT] population [NN] of [IN] Colorado [NNP] at [IN] 5,877,610 [CD] as [IN] of [IN] July [NNP] 1 [CD] , [,] 2023 [CD] , [,] a [DT] 1.80 [CD] % [NN] increase [NN] since [IN] the [DT] 2020 [CD] United [NNP] States [NNPS] census [NN] . [.] The [DT] region [NN] has [VBZ] been [VBN] inhabited [VBN] by [IN] Native [JJ] Americans [NNPS] and [CC] their [PRP$] ancestors [NNS] for [IN] at [IN] least [JJS] 13,500 [CD] years [NNS] and [CC] possibly [RB] much [RB] longer [RBR] . [.] The [DT] eastern [JJ] edge [NN] of [IN] the [DT] Rocky [NNP] Mountains [NNP] was [VBD] a [DT] major [JJ] migration [NN] route [NN] for [IN] early [JJ] peoples [NNS] who [WP] spread [VBP] throughout [IN] the [DT] Americas [NNPS] . [.] In [IN] 1848 [CD] , [,] much [RB] of [IN] the [DT] Nuevo [NNP] México [NNP] region [NN] was [VBD] annexed [VBN] to [TO] the [DT] United [NNP] States [NNPS] with [IN] the [DT] Treaty [NNP] of [IN] Guadalupe [NNP] Hidalgo [NNP] . [.] The [DT] Pike [NNP] 's [POS] Peak [NNP] Gold [NNP] Rush [NNP] of [IN] 1858–1862 [CD] created [VBD] an [DT] influx [NN] of [IN] settlers [NNS] . [.] On [IN] February [NNP] 28 [CD] , [,] 1861 [CD] , [,] U.S. [NNP] President [NNP] James [NNP] Buchanan [NNP] signed [VBD] an [DT] act [NN] creating [VBG] the [DT] Territory [NN] of [IN] Colorado [NNP] , [,] and [CC] on [IN] August [NNP] 1 [CD] , [,] 1876 [CD] , [,] President [NNP] Ulysses [NNP] S. [NNP] Grant [NNP] signed [VBD] Proclamation [NNP] 230 [CD] , [,] admitting [VBG] Colorado [NNP] to [TO] the [DT] Union [NNP] as [IN] the [DT] 38th [CD] state [NN] . [.] The [DT] Spanish [JJ] adjective [JJ] `` [``] colorado [NN] '' [''] means [VBZ] `` [``] colored [JJ] red [JJ] '' [''] or [CC] `` [``] ruddy [JJ] '' [''] . [.] Colorado [NNP] is [VBZ] nicknamed [VBN] the [DT] `` [``] Centennial [JJ] State [NN] '' [''] because [IN] it [PRP] became [VBD] a [DT] state [NN] one [CD] century [NN] ( [(] and [CC] four [CD] weeks [NNS] ) [)] after [IN] the [DT] signing [NN] of [IN] the [DT] United [NNP] States [NNPS] Declaration [NNP] of [IN] Independence [NNP] . [.] Denver [NNP] is [VBZ] the [DT] capital [NN] , [,] the [DT] most [RBS] populous [JJ] city [NN] , [,] and [CC] the [DT] center [NN] of [IN] the [DT] Front [NNP] Range [NNP] Urban [NNP] Corridor [NNP] . [.] Colorado [NNP] Springs [NNP] is [VBZ] the [DT] second [JJ] most [RBS] populous [JJ] city [NN] of [IN] the [DT] state [NN] . [.] Residents [NNS] of [IN] the [DT] state [NN] are [VBP] known [VBN] as [IN] Coloradans [NNPS] , [,] although [IN] the [DT] antiquated [JJ] `` [``] Coloradoan [NNP] '' [''] is [VBZ] occasionally [RB] used [VBN] . [.] Major [JJ] parts [NNS] of [IN] the [DT] economy [NN] include [VBP] government [NN] and [CC] defense [NN] , [,] mining [NN] , [,] agriculture [NN] , [,] tourism [NN] , [,] and [CC] increasingly [RB] other [JJ] kinds [NNS] of [IN] manufacturing [NN] . [.] With [IN] increasing [VBG] temperatures [NNS] and [CC] decreasing [VBG] water [NN] availability [NN] , [,] Colorado [NNP] 's [POS] agriculture [NN] forestry [NN] , [,] and [CC] tourism [NN] economies [NNS] are [VBP] expected [VBN] to [TO] be [VB] heavily [RB] affected [VBN] by [IN] climate [NN] change [NN] . [.]"
     ]
    }
   ],
   "source": [
    "tags = part_of_speech_tagging(text)\n",
    "\n",
    "for tag in tags:\n",
    "    print(tag, end=\"\")"
   ]
  },
  {
   "cell_type": "markdown",
   "metadata": {},
   "source": [
    "Test word_frequency function, comparing its results to a simple command F search on the original file."
   ]
  },
  {
   "cell_type": "code",
   "execution_count": 54,
   "metadata": {},
   "outputs": [],
   "source": [
    "frequencies = word_frequency(text)\n",
    "assert(\"colorado {11}\" in frequencies)"
   ]
  },
  {
   "cell_type": "markdown",
   "metadata": {},
   "source": [
    "Test convert_pos_to_wordnet to ensure that it accurately converts nltk part of speech tags to wordnet part of speech tags."
   ]
  },
  {
   "cell_type": "code",
   "execution_count": 55,
   "metadata": {},
   "outputs": [],
   "source": [
    "assert(convert_pos_to_wordnet('JS') == 'a')\n",
    "assert(convert_pos_to_wordnet('VB') == 'v')\n",
    "assert(convert_pos_to_wordnet('NP') == 'n')\n",
    "assert(convert_pos_to_wordnet('RS') == 'r')\n",
    "assert(convert_pos_to_wordnet('XL') == 'n')"
   ]
  },
  {
   "cell_type": "markdown",
   "metadata": {},
   "source": [
    "Test lemmatization, ensuring a conjugated verb such as 'is' is properly lemmatized to 'be'."
   ]
  },
  {
   "cell_type": "code",
   "execution_count": 56,
   "metadata": {},
   "outputs": [],
   "source": [
    "lemmas = lemmatization(text)\n",
    "\n",
    "for lemma, token in zip(lemmas, token):\n",
    "    if token == 'is':\n",
    "        assert lemma == 'be'"
   ]
  },
  {
   "cell_type": "markdown",
   "metadata": {},
   "source": [
    "Test get_first_sentence."
   ]
  },
  {
   "cell_type": "code",
   "execution_count": 57,
   "metadata": {},
   "outputs": [],
   "source": [
    "assert(get_first_sentence() == \"Colorado is a state in the Western United States.\")"
   ]
  },
  {
   "cell_type": "code",
   "execution_count": 58,
   "metadata": {},
   "outputs": [],
   "source": [
    "entities = named_entity_recognition(text)\n",
    "assert(\"GPE Colorado\" in entities)"
   ]
  }
 ],
 "metadata": {
  "kernelspec": {
   "display_name": "base",
   "language": "python",
   "name": "python3"
  },
  "language_info": {
   "codemirror_mode": {
    "name": "ipython",
    "version": 3
   },
   "file_extension": ".py",
   "mimetype": "text/x-python",
   "name": "python",
   "nbconvert_exporter": "python",
   "pygments_lexer": "ipython3",
   "version": "3.12.4"
  }
 },
 "nbformat": 4,
 "nbformat_minor": 2
}
